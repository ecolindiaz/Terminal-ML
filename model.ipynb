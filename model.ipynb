{
 "cells": [
  {
   "cell_type": "code",
   "id": "d32a9ccb-3ca1-4185-ab05-abdc33a3c5a5",
   "metadata": {
    "ExecuteTime": {
     "end_time": "2024-08-21T18:53:15.645992Z",
     "start_time": "2024-08-21T18:53:12.542441Z"
    }
   },
   "source": [
    "import pandas as pd\n",
    "from pandas import json_normalize\n",
    "import numpy as np\n",
    "import glob\n",
    "import os\n",
    "import json\n",
    "import csv\n",
    "from sklearn.ensemble import RandomForestClassifier\n",
    "from sklearn.metrics import accuracy_score, confusion_matrix, classification_report\n",
    "from sklearn.model_selection import train_test_split\n",
    "from sklearn.multioutput import MultiOutputClassifier\n",
    "from sklearn.preprocessing import LabelEncoder\n",
    "from sklearn.preprocessing import OneHotEncoder\n",
    "from sklearn.compose import ColumnTransformer\n",
    "from sklearn.pipeline import Pipeline\n",
    "from sklearn import preprocessing\n",
    "import ast\n",
    "import joblib"
   ],
   "outputs": [],
   "execution_count": 1
  },
  {
   "cell_type": "code",
   "id": "c091f2fd-ba18-4550-8aef-834d53c6688f",
   "metadata": {
    "ExecuteTime": {
     "end_time": "2024-08-21T15:50:52.029271700Z",
     "start_time": "2024-08-21T15:50:50.121087Z"
    }
   },
   "source": [
    "with open('C:/Users/emawe/OneDrive/Documents/C1GamesStarterKit-master/algov1-4-3/replays.json') as json_file:\n",
    "    json_data = json.load(json_file)\n",
    "\n",
    "dfs = []\n",
    "for data in json_data[1:]:\n",
    "\n",
    "    data = data[1:]\n",
    "\n",
    "    for item in data:\n",
    "        for key, value in item.items():\n",
    "            df = pd.DataFrame({key: [value] if not isinstance(value, list) else [str(value)]})\n",
    "            dfs.append(df)\n",
    "\n",
    "df = pd.concat(dfs, axis=0, ignore_index=True)\n",
    "df = df.reset_index(drop=True)\n"
   ],
   "outputs": [
    {
     "ename": "KeyboardInterrupt",
     "evalue": "",
     "output_type": "error",
     "traceback": [
      "\u001B[1;31m---------------------------------------------------------------------------\u001B[0m",
      "\u001B[1;31mKeyboardInterrupt\u001B[0m                         Traceback (most recent call last)",
      "Input \u001B[1;32mIn [4]\u001B[0m, in \u001B[0;36m<cell line: 5>\u001B[1;34m()\u001B[0m\n\u001B[0;32m      9\u001B[0m     \u001B[38;5;28;01mfor\u001B[39;00m item \u001B[38;5;129;01min\u001B[39;00m data:\n\u001B[0;32m     10\u001B[0m         \u001B[38;5;28;01mfor\u001B[39;00m key, value \u001B[38;5;129;01min\u001B[39;00m item\u001B[38;5;241m.\u001B[39mitems():\n\u001B[1;32m---> 11\u001B[0m             df \u001B[38;5;241m=\u001B[39m \u001B[43mpd\u001B[49m\u001B[38;5;241;43m.\u001B[39;49m\u001B[43mDataFrame\u001B[49m\u001B[43m(\u001B[49m\u001B[43m{\u001B[49m\u001B[43mkey\u001B[49m\u001B[43m:\u001B[49m\u001B[43m \u001B[49m\u001B[43m[\u001B[49m\u001B[43mvalue\u001B[49m\u001B[43m]\u001B[49m\u001B[43m \u001B[49m\u001B[38;5;28;43;01mif\u001B[39;49;00m\u001B[43m \u001B[49m\u001B[38;5;129;43;01mnot\u001B[39;49;00m\u001B[43m \u001B[49m\u001B[38;5;28;43misinstance\u001B[39;49m\u001B[43m(\u001B[49m\u001B[43mvalue\u001B[49m\u001B[43m,\u001B[49m\u001B[43m \u001B[49m\u001B[38;5;28;43mlist\u001B[39;49m\u001B[43m)\u001B[49m\u001B[43m \u001B[49m\u001B[38;5;28;43;01melse\u001B[39;49;00m\u001B[43m \u001B[49m\u001B[43m[\u001B[49m\u001B[38;5;28;43mstr\u001B[39;49m\u001B[43m(\u001B[49m\u001B[43mvalue\u001B[49m\u001B[43m)\u001B[49m\u001B[43m]\u001B[49m\u001B[43m}\u001B[49m\u001B[43m)\u001B[49m\n\u001B[0;32m     12\u001B[0m             dfs\u001B[38;5;241m.\u001B[39mappend(df)\n\u001B[0;32m     14\u001B[0m df \u001B[38;5;241m=\u001B[39m pd\u001B[38;5;241m.\u001B[39mconcat(dfs, axis\u001B[38;5;241m=\u001B[39m\u001B[38;5;241m0\u001B[39m, ignore_index\u001B[38;5;241m=\u001B[39m\u001B[38;5;28;01mTrue\u001B[39;00m)\n",
      "File \u001B[1;32m~\\AppData\\Local\\Programs\\Python\\Python39\\lib\\site-packages\\pandas\\core\\frame.py:636\u001B[0m, in \u001B[0;36mDataFrame.__init__\u001B[1;34m(self, data, index, columns, dtype, copy)\u001B[0m\n\u001B[0;32m    630\u001B[0m     mgr \u001B[38;5;241m=\u001B[39m \u001B[38;5;28mself\u001B[39m\u001B[38;5;241m.\u001B[39m_init_mgr(\n\u001B[0;32m    631\u001B[0m         data, axes\u001B[38;5;241m=\u001B[39m{\u001B[38;5;124m\"\u001B[39m\u001B[38;5;124mindex\u001B[39m\u001B[38;5;124m\"\u001B[39m: index, \u001B[38;5;124m\"\u001B[39m\u001B[38;5;124mcolumns\u001B[39m\u001B[38;5;124m\"\u001B[39m: columns}, dtype\u001B[38;5;241m=\u001B[39mdtype, copy\u001B[38;5;241m=\u001B[39mcopy\n\u001B[0;32m    632\u001B[0m     )\n\u001B[0;32m    634\u001B[0m \u001B[38;5;28;01melif\u001B[39;00m \u001B[38;5;28misinstance\u001B[39m(data, \u001B[38;5;28mdict\u001B[39m):\n\u001B[0;32m    635\u001B[0m     \u001B[38;5;66;03m# GH#38939 de facto copy defaults to False only in non-dict cases\u001B[39;00m\n\u001B[1;32m--> 636\u001B[0m     mgr \u001B[38;5;241m=\u001B[39m \u001B[43mdict_to_mgr\u001B[49m\u001B[43m(\u001B[49m\u001B[43mdata\u001B[49m\u001B[43m,\u001B[49m\u001B[43m \u001B[49m\u001B[43mindex\u001B[49m\u001B[43m,\u001B[49m\u001B[43m \u001B[49m\u001B[43mcolumns\u001B[49m\u001B[43m,\u001B[49m\u001B[43m \u001B[49m\u001B[43mdtype\u001B[49m\u001B[38;5;241;43m=\u001B[39;49m\u001B[43mdtype\u001B[49m\u001B[43m,\u001B[49m\u001B[43m \u001B[49m\u001B[43mcopy\u001B[49m\u001B[38;5;241;43m=\u001B[39;49m\u001B[43mcopy\u001B[49m\u001B[43m,\u001B[49m\u001B[43m \u001B[49m\u001B[43mtyp\u001B[49m\u001B[38;5;241;43m=\u001B[39;49m\u001B[43mmanager\u001B[49m\u001B[43m)\u001B[49m\n\u001B[0;32m    637\u001B[0m \u001B[38;5;28;01melif\u001B[39;00m \u001B[38;5;28misinstance\u001B[39m(data, ma\u001B[38;5;241m.\u001B[39mMaskedArray):\n\u001B[0;32m    638\u001B[0m     \u001B[38;5;28;01mimport\u001B[39;00m \u001B[38;5;21;01mnumpy\u001B[39;00m\u001B[38;5;21;01m.\u001B[39;00m\u001B[38;5;21;01mma\u001B[39;00m\u001B[38;5;21;01m.\u001B[39;00m\u001B[38;5;21;01mmrecords\u001B[39;00m \u001B[38;5;28;01mas\u001B[39;00m \u001B[38;5;21;01mmrecords\u001B[39;00m\n",
      "File \u001B[1;32m~\\AppData\\Local\\Programs\\Python\\Python39\\lib\\site-packages\\pandas\\core\\internals\\construction.py:502\u001B[0m, in \u001B[0;36mdict_to_mgr\u001B[1;34m(data, index, columns, dtype, typ, copy)\u001B[0m\n\u001B[0;32m    494\u001B[0m     arrays \u001B[38;5;241m=\u001B[39m [\n\u001B[0;32m    495\u001B[0m         x\n\u001B[0;32m    496\u001B[0m         \u001B[38;5;28;01mif\u001B[39;00m \u001B[38;5;129;01mnot\u001B[39;00m \u001B[38;5;28mhasattr\u001B[39m(x, \u001B[38;5;124m\"\u001B[39m\u001B[38;5;124mdtype\u001B[39m\u001B[38;5;124m\"\u001B[39m) \u001B[38;5;129;01mor\u001B[39;00m \u001B[38;5;129;01mnot\u001B[39;00m \u001B[38;5;28misinstance\u001B[39m(x\u001B[38;5;241m.\u001B[39mdtype, ExtensionDtype)\n\u001B[0;32m    497\u001B[0m         \u001B[38;5;28;01melse\u001B[39;00m x\u001B[38;5;241m.\u001B[39mcopy()\n\u001B[0;32m    498\u001B[0m         \u001B[38;5;28;01mfor\u001B[39;00m x \u001B[38;5;129;01min\u001B[39;00m arrays\n\u001B[0;32m    499\u001B[0m     ]\n\u001B[0;32m    500\u001B[0m     \u001B[38;5;66;03m# TODO: can we get rid of the dt64tz special case above?\u001B[39;00m\n\u001B[1;32m--> 502\u001B[0m \u001B[38;5;28;01mreturn\u001B[39;00m \u001B[43marrays_to_mgr\u001B[49m\u001B[43m(\u001B[49m\u001B[43marrays\u001B[49m\u001B[43m,\u001B[49m\u001B[43m \u001B[49m\u001B[43mcolumns\u001B[49m\u001B[43m,\u001B[49m\u001B[43m \u001B[49m\u001B[43mindex\u001B[49m\u001B[43m,\u001B[49m\u001B[43m \u001B[49m\u001B[43mdtype\u001B[49m\u001B[38;5;241;43m=\u001B[39;49m\u001B[43mdtype\u001B[49m\u001B[43m,\u001B[49m\u001B[43m \u001B[49m\u001B[43mtyp\u001B[49m\u001B[38;5;241;43m=\u001B[39;49m\u001B[43mtyp\u001B[49m\u001B[43m,\u001B[49m\u001B[43m \u001B[49m\u001B[43mconsolidate\u001B[49m\u001B[38;5;241;43m=\u001B[39;49m\u001B[43mcopy\u001B[49m\u001B[43m)\u001B[49m\n",
      "File \u001B[1;32m~\\AppData\\Local\\Programs\\Python\\Python39\\lib\\site-packages\\pandas\\core\\internals\\construction.py:156\u001B[0m, in \u001B[0;36marrays_to_mgr\u001B[1;34m(arrays, columns, index, dtype, verify_integrity, typ, consolidate)\u001B[0m\n\u001B[0;32m    153\u001B[0m axes \u001B[38;5;241m=\u001B[39m [columns, index]\n\u001B[0;32m    155\u001B[0m \u001B[38;5;28;01mif\u001B[39;00m typ \u001B[38;5;241m==\u001B[39m \u001B[38;5;124m\"\u001B[39m\u001B[38;5;124mblock\u001B[39m\u001B[38;5;124m\"\u001B[39m:\n\u001B[1;32m--> 156\u001B[0m     \u001B[38;5;28;01mreturn\u001B[39;00m \u001B[43mcreate_block_manager_from_column_arrays\u001B[49m\u001B[43m(\u001B[49m\n\u001B[0;32m    157\u001B[0m \u001B[43m        \u001B[49m\u001B[43marrays\u001B[49m\u001B[43m,\u001B[49m\u001B[43m \u001B[49m\u001B[43maxes\u001B[49m\u001B[43m,\u001B[49m\u001B[43m \u001B[49m\u001B[43mconsolidate\u001B[49m\u001B[38;5;241;43m=\u001B[39;49m\u001B[43mconsolidate\u001B[49m\n\u001B[0;32m    158\u001B[0m \u001B[43m    \u001B[49m\u001B[43m)\u001B[49m\n\u001B[0;32m    159\u001B[0m \u001B[38;5;28;01melif\u001B[39;00m typ \u001B[38;5;241m==\u001B[39m \u001B[38;5;124m\"\u001B[39m\u001B[38;5;124marray\u001B[39m\u001B[38;5;124m\"\u001B[39m:\n\u001B[0;32m    160\u001B[0m     \u001B[38;5;28;01mreturn\u001B[39;00m ArrayManager(arrays, [index, columns])\n",
      "File \u001B[1;32m~\\AppData\\Local\\Programs\\Python\\Python39\\lib\\site-packages\\pandas\\core\\internals\\managers.py:1959\u001B[0m, in \u001B[0;36mcreate_block_manager_from_column_arrays\u001B[1;34m(arrays, axes, consolidate)\u001B[0m\n\u001B[0;32m   1957\u001B[0m     \u001B[38;5;28;01mraise\u001B[39;00m construction_error(\u001B[38;5;28mlen\u001B[39m(arrays), arrays[\u001B[38;5;241m0\u001B[39m]\u001B[38;5;241m.\u001B[39mshape, axes, e)\n\u001B[0;32m   1958\u001B[0m \u001B[38;5;28;01mif\u001B[39;00m consolidate:\n\u001B[1;32m-> 1959\u001B[0m     \u001B[43mmgr\u001B[49m\u001B[38;5;241;43m.\u001B[39;49m\u001B[43m_consolidate_inplace\u001B[49m\u001B[43m(\u001B[49m\u001B[43m)\u001B[49m\n\u001B[0;32m   1960\u001B[0m \u001B[38;5;28;01mreturn\u001B[39;00m mgr\n",
      "File \u001B[1;32m~\\AppData\\Local\\Programs\\Python\\Python39\\lib\\site-packages\\pandas\\core\\internals\\managers.py:1684\u001B[0m, in \u001B[0;36mBlockManager._consolidate_inplace\u001B[1;34m(self)\u001B[0m\n\u001B[0;32m   1683\u001B[0m \u001B[38;5;28;01mdef\u001B[39;00m \u001B[38;5;21m_consolidate_inplace\u001B[39m(\u001B[38;5;28mself\u001B[39m) \u001B[38;5;241m-\u001B[39m\u001B[38;5;241m>\u001B[39m \u001B[38;5;28;01mNone\u001B[39;00m:\n\u001B[1;32m-> 1684\u001B[0m     \u001B[38;5;28;01mif\u001B[39;00m \u001B[38;5;129;01mnot\u001B[39;00m \u001B[38;5;28;43mself\u001B[39;49m\u001B[38;5;241;43m.\u001B[39;49m\u001B[43mis_consolidated\u001B[49m\u001B[43m(\u001B[49m\u001B[43m)\u001B[49m:\n\u001B[0;32m   1685\u001B[0m         \u001B[38;5;28mself\u001B[39m\u001B[38;5;241m.\u001B[39mblocks \u001B[38;5;241m=\u001B[39m \u001B[38;5;28mtuple\u001B[39m(_consolidate(\u001B[38;5;28mself\u001B[39m\u001B[38;5;241m.\u001B[39mblocks))\n\u001B[0;32m   1686\u001B[0m         \u001B[38;5;28mself\u001B[39m\u001B[38;5;241m.\u001B[39m_is_consolidated \u001B[38;5;241m=\u001B[39m \u001B[38;5;28;01mTrue\u001B[39;00m\n",
      "File \u001B[1;32m~\\AppData\\Local\\Programs\\Python\\Python39\\lib\\site-packages\\pandas\\core\\internals\\managers.py:1665\u001B[0m, in \u001B[0;36mBlockManager.is_consolidated\u001B[1;34m(self)\u001B[0m\n\u001B[0;32m   1660\u001B[0m     \u001B[38;5;28;01mreturn\u001B[39;00m result\n\u001B[0;32m   1662\u001B[0m \u001B[38;5;66;03m# ----------------------------------------------------------------\u001B[39;00m\n\u001B[0;32m   1663\u001B[0m \u001B[38;5;66;03m# Consolidation\u001B[39;00m\n\u001B[1;32m-> 1665\u001B[0m \u001B[38;5;28;01mdef\u001B[39;00m \u001B[38;5;21mis_consolidated\u001B[39m(\u001B[38;5;28mself\u001B[39m) \u001B[38;5;241m-\u001B[39m\u001B[38;5;241m>\u001B[39m \u001B[38;5;28mbool\u001B[39m:\n\u001B[0;32m   1666\u001B[0m     \u001B[38;5;124;03m\"\"\"\u001B[39;00m\n\u001B[0;32m   1667\u001B[0m \u001B[38;5;124;03m    Return True if more than one block with the same dtype\u001B[39;00m\n\u001B[0;32m   1668\u001B[0m \u001B[38;5;124;03m    \"\"\"\u001B[39;00m\n\u001B[0;32m   1669\u001B[0m     \u001B[38;5;28;01mif\u001B[39;00m \u001B[38;5;129;01mnot\u001B[39;00m \u001B[38;5;28mself\u001B[39m\u001B[38;5;241m.\u001B[39m_known_consolidated:\n",
      "\u001B[1;31mKeyboardInterrupt\u001B[0m: "
     ]
    }
   ],
   "execution_count": 4
  },
  {
   "cell_type": "code",
   "id": "0d4e54f3-60ee-4c2b-893c-74815b989308",
   "metadata": {
    "ExecuteTime": {
     "end_time": "2024-08-21T18:54:04.174077Z",
     "start_time": "2024-08-21T18:53:35.561170Z"
    }
   },
   "source": [
    "max_files = 25\n",
    "\n",
    "directories = ['C:/Users/emawe/OneDrive/Documents/C1GamesStarterKit-master/scripts/batch_0']\n",
    "\n",
    "big_dfs = []\n",
    "\n",
    "\n",
    "def process_file(file):\n",
    "    print(f\"Processing file: {file}\")\n",
    "    with open(file) as f:\n",
    "        try:\n",
    "            json_big_data = json.load(f)\n",
    "\n",
    "            for data in json_big_data[1:]:\n",
    "\n",
    "                for key, value in data.items():\n",
    "                    df = pd.DataFrame({key: [value] if not isinstance(value, list) else [str(value)]})\n",
    "                    big_dfs.append(df)\n",
    "\n",
    "        except Exception as e:\n",
    "            print(f\"Error processing file {file}: {e}\")\n",
    "\n",
    "file_counter = 0\n",
    "\n",
    "for directory in directories:\n",
    "    print(f\"Processing directory: {directory}\")\n",
    "    for file in glob.glob(os.path.join(directory, '*.json')):\n",
    "        process_file(file)\n",
    "        file_counter += 1\n",
    "        if file_counter >= max_files:\n",
    "            break\n",
    "    if file_counter >= max_files:\n",
    "        break\n",
    "\n",
    "big_df = pd.concat(big_dfs, ignore_index=True)\n",
    "big_df = big_df.reset_index(drop=True)"
   ],
   "outputs": [
    {
     "name": "stdout",
     "output_type": "stream",
     "text": [
      "Processing directory: C:/Users/emawe/OneDrive/Documents/C1GamesStarterKit-master/scripts/batch_0\n",
      "Processing file: C:/Users/emawe/OneDrive/Documents/C1GamesStarterKit-master/scripts/batch_0\\replay_13846434.json\n",
      "Processing file: C:/Users/emawe/OneDrive/Documents/C1GamesStarterKit-master/scripts/batch_0\\replay_13846440.json\n",
      "Processing file: C:/Users/emawe/OneDrive/Documents/C1GamesStarterKit-master/scripts/batch_0\\replay_13846448.json\n",
      "Processing file: C:/Users/emawe/OneDrive/Documents/C1GamesStarterKit-master/scripts/batch_0\\replay_13846462.json\n",
      "Processing file: C:/Users/emawe/OneDrive/Documents/C1GamesStarterKit-master/scripts/batch_0\\replay_13846465.json\n",
      "Processing file: C:/Users/emawe/OneDrive/Documents/C1GamesStarterKit-master/scripts/batch_0\\replay_13846470.json\n",
      "Processing file: C:/Users/emawe/OneDrive/Documents/C1GamesStarterKit-master/scripts/batch_0\\replay_13846472.json\n",
      "Processing file: C:/Users/emawe/OneDrive/Documents/C1GamesStarterKit-master/scripts/batch_0\\replay_13846500.json\n",
      "Processing file: C:/Users/emawe/OneDrive/Documents/C1GamesStarterKit-master/scripts/batch_0\\replay_13846503.json\n",
      "Processing file: C:/Users/emawe/OneDrive/Documents/C1GamesStarterKit-master/scripts/batch_0\\replay_13846504.json\n",
      "Processing file: C:/Users/emawe/OneDrive/Documents/C1GamesStarterKit-master/scripts/batch_0\\replay_13846508.json\n",
      "Processing file: C:/Users/emawe/OneDrive/Documents/C1GamesStarterKit-master/scripts/batch_0\\replay_13846512.json\n",
      "Processing file: C:/Users/emawe/OneDrive/Documents/C1GamesStarterKit-master/scripts/batch_0\\replay_13846514.json\n",
      "Processing file: C:/Users/emawe/OneDrive/Documents/C1GamesStarterKit-master/scripts/batch_0\\replay_13846519.json\n",
      "Processing file: C:/Users/emawe/OneDrive/Documents/C1GamesStarterKit-master/scripts/batch_0\\replay_13846522.json\n",
      "Processing file: C:/Users/emawe/OneDrive/Documents/C1GamesStarterKit-master/scripts/batch_0\\replay_13846525.json\n",
      "Processing file: C:/Users/emawe/OneDrive/Documents/C1GamesStarterKit-master/scripts/batch_0\\replay_13846530.json\n",
      "Processing file: C:/Users/emawe/OneDrive/Documents/C1GamesStarterKit-master/scripts/batch_0\\replay_13846539.json\n",
      "Processing file: C:/Users/emawe/OneDrive/Documents/C1GamesStarterKit-master/scripts/batch_0\\replay_13846543.json\n",
      "Processing file: C:/Users/emawe/OneDrive/Documents/C1GamesStarterKit-master/scripts/batch_0\\replay_13846544.json\n",
      "Processing file: C:/Users/emawe/OneDrive/Documents/C1GamesStarterKit-master/scripts/batch_0\\replay_13846569.json\n",
      "Processing file: C:/Users/emawe/OneDrive/Documents/C1GamesStarterKit-master/scripts/batch_0\\replay_13846570.json\n",
      "Processing file: C:/Users/emawe/OneDrive/Documents/C1GamesStarterKit-master/scripts/batch_0\\replay_13846571.json\n",
      "Processing file: C:/Users/emawe/OneDrive/Documents/C1GamesStarterKit-master/scripts/batch_0\\replay_13846577.json\n",
      "Processing file: C:/Users/emawe/OneDrive/Documents/C1GamesStarterKit-master/scripts/batch_0\\replay_13846645.json\n"
     ]
    }
   ],
   "execution_count": 2
  },
  {
   "cell_type": "code",
   "id": "d467c6ab-1449-4e7b-9716-33ba27583071",
   "metadata": {
    "ExecuteTime": {
     "end_time": "2024-08-21T18:56:00.156597Z",
     "start_time": "2024-08-21T18:56:00.016741Z"
    }
   },
   "source": [
    "non_nan_indices = big_df[~big_df['endStats'].isna()].index.tolist()\n",
    "\n",
    "df = big_df.drop(non_nan_indices)\n",
    "df = df.drop(columns=['endStats'])\n",
    "\n",
    "compressed_df = pd.DataFrame()\n",
    "\n",
    "for column in df.columns:\n",
    "    non_nan_values = df[column].dropna().reset_index(drop=True)\n",
    "    compressed_df[column] = non_nan_values\n",
    "    \n",
    "compressed_df.drop(columns=['turnInfo'], inplace=True)\n",
    "compressed_df.drop(columns=['events'], inplace=True)\n",
    "print(compressed_df.head())\n"
   ],
   "outputs": [
    {
     "name": "stdout",
     "output_type": "stream",
     "text": [
      "                                             p2Units               p1Stats  \\\n",
      "0                   [[], [], [], [], [], [], [], []]  [30.0, 40.0, 5.0, 0]   \n",
      "1  [[[19, 15, 40.0, '29'], [8, 15, 40.0, '30'], [...   [30.0, 1.0, 0.0, 8]   \n",
      "2  [[[19, 15, 40.0, '29'], [8, 15, 40.0, '30'], [...   [30.0, 1.0, 0.0, 8]   \n",
      "3  [[[19, 15, 40.0, '29'], [8, 15, 40.0, '30'], [...   [30.0, 1.0, 0.0, 8]   \n",
      "4  [[[19, 15, 40.0, '29'], [8, 15, 40.0, '30'], [...   [30.0, 1.0, 0.0, 8]   \n",
      "\n",
      "                                             p1Units               p2Stats  \n",
      "0                   [[], [], [], [], [], [], [], []]  [30.0, 40.0, 5.0, 0]  \n",
      "1  [[[2, 12, 40.0, '2'], [3, 11, 40.0, '3'], [4, ...   [30.0, 0.0, 1.0, 5]  \n",
      "2  [[[2, 12, 40.0, '2'], [3, 11, 40.0, '3'], [4, ...   [30.0, 0.0, 1.0, 5]  \n",
      "3  [[[2, 12, 40.0, '2'], [3, 11, 40.0, '3'], [4, ...   [30.0, 0.0, 1.0, 5]  \n",
      "4  [[[2, 12, 40.0, '2'], [3, 11, 40.0, '3'], [4, ...   [30.0, 0.0, 1.0, 5]  \n"
     ]
    }
   ],
   "execution_count": 3
  },
  {
   "cell_type": "code",
   "id": "9abb2c88-6c47-407f-89b1-fdbfbf9e7e02",
   "metadata": {
    "ExecuteTime": {
     "end_time": "2024-08-21T18:56:30.589077Z",
     "start_time": "2024-08-21T18:56:30.546321Z"
    }
   },
   "source": [
    "compressed_df['prev_p1Units'] = compressed_df['p1Units'].shift(1)\n",
    "compressed_df['prev_p2Units'] = compressed_df['p2Units'].shift(1)\n",
    "compressed_df.dropna(inplace=True)"
   ],
   "outputs": [],
   "execution_count": 6
  },
  {
   "metadata": {
    "ExecuteTime": {
     "end_time": "2024-08-21T18:56:41.120256Z",
     "start_time": "2024-08-21T18:56:31.842991Z"
    }
   },
   "cell_type": "code",
   "source": [
    "def encode_nested_lists(nested_list):\n",
    "    flat_list = [item for sublist in nested_list for item in sublist]\n",
    "    return flat_list\n",
    "\n",
    "for col in ['prev_p1Units', 'prev_p2Units']:\n",
    "    compressed_df[f'encoded_{col}'] = compressed_df[col].apply(encode_nested_lists)\n",
    "\n",
    "all_values = [item for col in ['encoded_prev_p1Units', 'encoded_prev_p2Units']\n",
    "              for sublist in compressed_df[col] for item in sublist]\n",
    "unique_values = sorted(set(all_values))\n",
    "\n",
    "le = LabelEncoder()\n",
    "le.fit(unique_values)\n",
    "\n",
    "def encode_list(lst):\n",
    "    return le.transform(lst).tolist()\n",
    "\n",
    "\n",
    "for col in ['encoded_prev_p1Units', 'encoded_prev_p2Units']:\n",
    "    compressed_df[col] = compressed_df[col].apply(encode_list)\n",
    "\n",
    "\n",
    "max_len = max(compressed_df[col].apply(len).max() for col in ['encoded_prev_p1Units', 'encoded_prev_p2Units'])\n",
    "\n",
    "def pad_or_truncate(lst, max_len):\n",
    "    return lst[:max_len] + [0] * (max_len - len(lst))\n",
    "\n",
    "for col in ['encoded_prev_p1Units', 'encoded_prev_p2Units']:\n",
    "    compressed_df[col] = compressed_df[col].apply(lambda x: pad_or_truncate(x, max_len))\n",
    "\n",
    "X = compressed_df[['encoded_prev_p1Units', 'encoded_prev_p2Units']]\n",
    "X = np.array(X.apply(lambda row: np.concatenate(row), axis=1).tolist())\n",
    "X_df = pd.DataFrame(X)\n",
    "print(X_df.head())"
   ],
   "id": "286f267c50e0bdcd",
   "outputs": [
    {
     "name": "stdout",
     "output_type": "stream",
     "text": [
      "   0     1     2     3     4     5     6     7     8     9     ...  2582  \\\n",
      "0    14    14    15     2     0    14    15     2     0    14  ...     0   \n",
      "1    14    14    14     6     2     0     5     6     2     0  ...     0   \n",
      "2    14    14    14     6     2     0     5     6     2     0  ...     0   \n",
      "3    14    14    14     6     2     0     5     6     2     0  ...     0   \n",
      "4    14    14    14     6     2     0     5     6     2     0  ...     0   \n",
      "\n",
      "   2583  2584  2585  2586  2587  2588  2589  2590  2591  \n",
      "0     0     0     0     0     0     0     0     0     0  \n",
      "1     0     0     0     0     0     0     0     0     0  \n",
      "2     0     0     0     0     0     0     0     0     0  \n",
      "3     0     0     0     0     0     0     0     0     0  \n",
      "4     0     0     0     0     0     0     0     0     0  \n",
      "\n",
      "[5 rows x 2592 columns]\n"
     ]
    }
   ],
   "execution_count": 7
  },
  {
   "metadata": {
    "ExecuteTime": {
     "end_time": "2024-08-21T18:42:24.851674Z",
     "start_time": "2024-08-21T18:42:24.837258Z"
    }
   },
   "cell_type": "code",
   "source": "print(unique_values)",
   "id": "b89feec82457dd41",
   "outputs": [
    {
     "name": "stdout",
     "output_type": "stream",
     "text": [
      "[' ', \"'\", ',', '-', '.', '0', '1', '2', '3', '4', '5', '6', '7', '8', '9', 'D', '[', ']', 'a', 'b', 'c', 'd', 'e', 'f', 'g', 'h', 'i', 'k', 'l', 'm', 'n', 'o', 'p', 'r', 's', 't', 'u', 'v', 'w']\n"
     ]
    }
   ],
   "execution_count": 28
  },
  {
   "metadata": {
    "ExecuteTime": {
     "end_time": "2024-08-21T18:56:54.589362Z",
     "start_time": "2024-08-21T18:56:45.893252Z"
    }
   },
   "cell_type": "code",
   "source": [
    "def encode_target_lists(nested_list):\n",
    "    flat_list = [item for sublist in nested_list for item in sublist]\n",
    "    return flat_list\n",
    "\n",
    "compressed_df['encoded_p1Units_target'] = compressed_df['p1Units'].apply(encode_target_lists)\n",
    "compressed_df['encoded_p2Units_target'] = compressed_df['p2Units'].apply(encode_target_lists)\n",
    "\n",
    "all_values_target = [item for sublist in compressed_df['encoded_p1Units_target'] for item in sublist] + \\\n",
    "                    [item for sublist in compressed_df['encoded_p2Units_target'] for item in sublist]\n",
    "unique_values_target = sorted(set(all_values_target))\n",
    "\n",
    "le_target = LabelEncoder()\n",
    "le_target.fit(unique_values_target)\n",
    "\n",
    "def encode_list_target(lst):\n",
    "    return le_target.transform(lst).tolist()\n",
    "\n",
    "compressed_df['encoded_p1Units_target'] = compressed_df['encoded_p1Units_target'].apply(encode_list_target)\n",
    "compressed_df['encoded_p2Units_target'] = compressed_df['encoded_p2Units_target'].apply(encode_list_target)\n",
    "\n",
    "max_len_p1 = compressed_df['encoded_p1Units_target'].apply(len).max()\n",
    "max_len_p2 = compressed_df['encoded_p2Units_target'].apply(len).max()\n",
    "\n",
    "def pad_or_truncate_target(lst, max_len):\n",
    "    return lst[:max_len] + [0] * (max_len - len(lst))\n",
    "\n",
    "compressed_df['encoded_p1Units_target'] = compressed_df['encoded_p1Units_target'].apply(lambda x: pad_or_truncate_target(x, max_len_p1))\n",
    "compressed_df['encoded_p2Units_target'] = compressed_df['encoded_p2Units_target'].apply(lambda x: pad_or_truncate_target(x, max_len_p2))\n",
    "\n",
    "y = compressed_df[['encoded_p1Units_target', 'encoded_p2Units_target']]\n",
    "y = np.array(y.apply(lambda row: np.concatenate(row), axis=1).tolist())\n"
   ],
   "id": "e7116df0c9b55ca1",
   "outputs": [],
   "execution_count": 8
  },
  {
   "cell_type": "code",
   "id": "1535be7c-2075-418f-832d-064980f9cb5c",
   "metadata": {
    "ExecuteTime": {
     "end_time": "2024-08-21T19:03:06.783248Z",
     "start_time": "2024-08-21T18:56:56.989499Z"
    }
   },
   "source": [
    "X_train, X_test, y_train, y_test = train_test_split(X, y, test_size=0.2, random_state=42)\n",
    "\n",
    "rf_model = RandomForestClassifier(n_estimators=35, random_state=42, max_depth=10)\n",
    "rf_model.fit(X_train, y_train)\n",
    "    "
   ],
   "outputs": [
    {
     "data": {
      "text/plain": [
       "RandomForestClassifier(max_depth=10, n_estimators=35, random_state=42)"
      ],
      "text/html": [
       "<style>#sk-container-id-1 {color: black;}#sk-container-id-1 pre{padding: 0;}#sk-container-id-1 div.sk-toggleable {background-color: white;}#sk-container-id-1 label.sk-toggleable__label {cursor: pointer;display: block;width: 100%;margin-bottom: 0;padding: 0.3em;box-sizing: border-box;text-align: center;}#sk-container-id-1 label.sk-toggleable__label-arrow:before {content: \"▸\";float: left;margin-right: 0.25em;color: #696969;}#sk-container-id-1 label.sk-toggleable__label-arrow:hover:before {color: black;}#sk-container-id-1 div.sk-estimator:hover label.sk-toggleable__label-arrow:before {color: black;}#sk-container-id-1 div.sk-toggleable__content {max-height: 0;max-width: 0;overflow: hidden;text-align: left;background-color: #f0f8ff;}#sk-container-id-1 div.sk-toggleable__content pre {margin: 0.2em;color: black;border-radius: 0.25em;background-color: #f0f8ff;}#sk-container-id-1 input.sk-toggleable__control:checked~div.sk-toggleable__content {max-height: 200px;max-width: 100%;overflow: auto;}#sk-container-id-1 input.sk-toggleable__control:checked~label.sk-toggleable__label-arrow:before {content: \"▾\";}#sk-container-id-1 div.sk-estimator input.sk-toggleable__control:checked~label.sk-toggleable__label {background-color: #d4ebff;}#sk-container-id-1 div.sk-label input.sk-toggleable__control:checked~label.sk-toggleable__label {background-color: #d4ebff;}#sk-container-id-1 input.sk-hidden--visually {border: 0;clip: rect(1px 1px 1px 1px);clip: rect(1px, 1px, 1px, 1px);height: 1px;margin: -1px;overflow: hidden;padding: 0;position: absolute;width: 1px;}#sk-container-id-1 div.sk-estimator {font-family: monospace;background-color: #f0f8ff;border: 1px dotted black;border-radius: 0.25em;box-sizing: border-box;margin-bottom: 0.5em;}#sk-container-id-1 div.sk-estimator:hover {background-color: #d4ebff;}#sk-container-id-1 div.sk-parallel-item::after {content: \"\";width: 100%;border-bottom: 1px solid gray;flex-grow: 1;}#sk-container-id-1 div.sk-label:hover label.sk-toggleable__label {background-color: #d4ebff;}#sk-container-id-1 div.sk-serial::before {content: \"\";position: absolute;border-left: 1px solid gray;box-sizing: border-box;top: 0;bottom: 0;left: 50%;z-index: 0;}#sk-container-id-1 div.sk-serial {display: flex;flex-direction: column;align-items: center;background-color: white;padding-right: 0.2em;padding-left: 0.2em;position: relative;}#sk-container-id-1 div.sk-item {position: relative;z-index: 1;}#sk-container-id-1 div.sk-parallel {display: flex;align-items: stretch;justify-content: center;background-color: white;position: relative;}#sk-container-id-1 div.sk-item::before, #sk-container-id-1 div.sk-parallel-item::before {content: \"\";position: absolute;border-left: 1px solid gray;box-sizing: border-box;top: 0;bottom: 0;left: 50%;z-index: -1;}#sk-container-id-1 div.sk-parallel-item {display: flex;flex-direction: column;z-index: 1;position: relative;background-color: white;}#sk-container-id-1 div.sk-parallel-item:first-child::after {align-self: flex-end;width: 50%;}#sk-container-id-1 div.sk-parallel-item:last-child::after {align-self: flex-start;width: 50%;}#sk-container-id-1 div.sk-parallel-item:only-child::after {width: 0;}#sk-container-id-1 div.sk-dashed-wrapped {border: 1px dashed gray;margin: 0 0.4em 0.5em 0.4em;box-sizing: border-box;padding-bottom: 0.4em;background-color: white;}#sk-container-id-1 div.sk-label label {font-family: monospace;font-weight: bold;display: inline-block;line-height: 1.2em;}#sk-container-id-1 div.sk-label-container {text-align: center;}#sk-container-id-1 div.sk-container {/* jupyter's `normalize.less` sets `[hidden] { display: none; }` but bootstrap.min.css set `[hidden] { display: none !important; }` so we also need the `!important` here to be able to override the default hidden behavior on the sphinx rendered scikit-learn.org. See: https://github.com/scikit-learn/scikit-learn/issues/21755 */display: inline-block !important;position: relative;}#sk-container-id-1 div.sk-text-repr-fallback {display: none;}</style><div id=\"sk-container-id-1\" class=\"sk-top-container\"><div class=\"sk-text-repr-fallback\"><pre>RandomForestClassifier(max_depth=10, n_estimators=35, random_state=42)</pre><b>In a Jupyter environment, please rerun this cell to show the HTML representation or trust the notebook. <br />On GitHub, the HTML representation is unable to render, please try loading this page with nbviewer.org.</b></div><div class=\"sk-container\" hidden><div class=\"sk-item\"><div class=\"sk-estimator sk-toggleable\"><input class=\"sk-toggleable__control sk-hidden--visually\" id=\"sk-estimator-id-1\" type=\"checkbox\" checked><label for=\"sk-estimator-id-1\" class=\"sk-toggleable__label sk-toggleable__label-arrow\">RandomForestClassifier</label><div class=\"sk-toggleable__content\"><pre>RandomForestClassifier(max_depth=10, n_estimators=35, random_state=42)</pre></div></div></div></div></div>"
      ]
     },
     "execution_count": 9,
     "metadata": {},
     "output_type": "execute_result"
    }
   ],
   "execution_count": 9
  },
  {
   "metadata": {
    "ExecuteTime": {
     "end_time": "2024-08-21T18:13:55.222045Z",
     "start_time": "2024-08-21T18:13:05.655419Z"
    }
   },
   "cell_type": "code",
   "source": [
    "y_pred = rf_model.predict(X_test)\n",
    "\n",
    "print(y_pred)"
   ],
   "id": "1008a96a1a1d6bd0",
   "outputs": [
    {
     "name": "stdout",
     "output_type": "stream",
     "text": [
      "[[14 14 14 ...  0  0  0]\n",
      " [14 14 14 ...  0  0  0]\n",
      " [14 14 14 ...  0  0  0]\n",
      " ...\n",
      " [14 14 14 ...  0  0  0]\n",
      " [14 14 14 ...  0  0  0]\n",
      " [14 14 14 ...  0  0  0]]\n"
     ]
    }
   ],
   "execution_count": 8
  },
  {
   "metadata": {
    "ExecuteTime": {
     "end_time": "2024-08-21T18:17:54.511205Z",
     "start_time": "2024-08-21T18:17:54.479936Z"
    }
   },
   "cell_type": "code",
   "source": [
    "print(\"Dimension of y_test:\", y_test.ndim)\n",
    "print(\"Dimension of y_pred:\", y_pred.ndim)"
   ],
   "id": "1b26216241c18624",
   "outputs": [
    {
     "name": "stdout",
     "output_type": "stream",
     "text": [
      "Dimension of y_test: 2\n",
      "Dimension of y_pred: 2\n"
     ]
    }
   ],
   "execution_count": 19
  },
  {
   "metadata": {
    "ExecuteTime": {
     "end_time": "2024-08-21T18:18:54.807408Z",
     "start_time": "2024-08-21T18:18:54.657047Z"
    }
   },
   "cell_type": "code",
   "source": [
    "y_test_flat = y_test.ravel()\n",
    "y_pred_flat = y_pred.ravel()\n",
    "\n",
    "print(\"Flattened y_test shape:\", y_test_flat.shape)\n",
    "print(\"Flattened y_pred shape:\", y_pred_flat.shape)\n",
    "\n",
    "accuracy = accuracy_score(y_test_flat, y_pred_flat)\n",
    "print(f\"Accuracy: {accuracy:.2f}\")\n",
    "\n",
    "print(y_pred_flat)"
   ],
   "id": "6d657b6efe80cbfc",
   "outputs": [
    {
     "name": "stdout",
     "output_type": "stream",
     "text": [
      "Flattened y_test shape: (3607464,)\n",
      "Flattened y_pred shape: (3607464,)\n",
      "Accuracy: 0.95\n",
      "[14 14 14 ...  0  0  0]\n"
     ]
    }
   ],
   "execution_count": 22
  },
  {
   "metadata": {
    "ExecuteTime": {
     "end_time": "2024-08-21T19:05:15.492624Z",
     "start_time": "2024-08-21T19:03:20.565029Z"
    }
   },
   "cell_type": "code",
   "source": "joblib.dump(rf_model, 'rf_model.pki')",
   "id": "247e34c430ec1600",
   "outputs": [
    {
     "data": {
      "text/plain": [
       "['rf_model.pki']"
      ]
     },
     "execution_count": 10,
     "metadata": {},
     "output_type": "execute_result"
    }
   ],
   "execution_count": 10
  }
 ],
 "metadata": {
  "kernelspec": {
   "display_name": "Python 3 (ipykernel)",
   "language": "python",
   "name": "python3"
  },
  "language_info": {
   "codemirror_mode": {
    "name": "ipython",
    "version": 3
   },
   "file_extension": ".py",
   "mimetype": "text/x-python",
   "name": "python",
   "nbconvert_exporter": "python",
   "pygments_lexer": "ipython3",
   "version": "3.12.0"
  }
 },
 "nbformat": 4,
 "nbformat_minor": 5
}
